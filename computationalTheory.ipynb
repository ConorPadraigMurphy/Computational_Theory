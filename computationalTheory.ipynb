{
 "cells": [
  {
   "cell_type": "markdown",
   "metadata": {},
   "source": [
    "**Countdown - The Numbers Round**\n",
    "\n",
    "Computational Theory Module ATU\n",
    "\n",
    "By Conor Murphy"
   ]
  },
  {
   "cell_type": "markdown",
   "metadata": {},
   "source": [
    "#### Assignment/Notebook Breakdown\n",
    "\n",
    "This assingment aims to solve and analyse the [Numbers Round](https://en.wikipedia.org/wiki/Countdown_(game_show)#Numbers_Round)  of the television gameshow called [Countdown](https://en.wikipedia.org/wiki/Countdown_(game_show)). The assignment will be broken up into two sections in this python notebook. THe first section will discuss the theory element of the Numbers round of the game Countdown. THis will involve discussing topics such as: \n",
    "    - A explanation of the Countdown Numbers Round.\n",
    "    - The analysis of the computational complexity of the round.\n",
    "    - An explanation of the approach taken in this assignment to solve the game.\n",
    "    - And lastly, the findings on the research of the problem done during this assignment.\n",
    "The second section of this notebook is on the implementation element and will involve:\n",
    "    - Implementing a function used to solve the numbers round of Countdown.\n",
    "    - Examples of the function being used.\n",
    "    - AS well as an explanation of any of the functional programming undertaking in the implementation of the solution."
   ]
  },
  {
   "cell_type": "markdown",
   "metadata": {},
   "source": [
    "Countdown\n",
    "\n",
    "What is Countdown ?\n",
    "Countdown the game show is a British television game show involving word and number puzzles and mathematical problems. The premise is that contestants must complete various puzzles, often mathematical within a limited amount of time. During this assignment, the mathematical problems portion of this show, also know as the Numbers Round, will focused on.\n",
    "\n",
    "The Numbers Round\n",
    "WHat is the numbers Roud of Countdown and how does it work?."
   ]
  }
 ],
 "metadata": {
  "language_info": {
   "name": "python"
  }
 },
 "nbformat": 4,
 "nbformat_minor": 2
}
