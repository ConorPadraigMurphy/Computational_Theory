{
 "cells": [
  {
   "cell_type": "markdown",
   "metadata": {},
   "source": [
    "**Countdown - The Numbers Round**\n",
    "===================================\n",
    "***Computational Theory Module ATU***\n",
    "\n",
    "**Author:** *Conor Murphy*"
   ]
  },
  {
   "cell_type": "markdown",
   "metadata": {},
   "source": [
    "Theory Markdown Sections\n",
    "\n",
    "Countdown/Numbers Round Explanation\n",
    "Computational Complexity Analysis\n",
    "    Discuss brute-force\n",
    "    DIscuss Backtracking\n",
    "    Discuss Dynamic Programming\n",
    "Existing Solutions\n"
   ]
  },
  {
   "cell_type": "markdown",
   "metadata": {},
   "source": [
    "# Assignment/Notebook Breakdown\n",
    "\n",
    "This assingment aims to solve and analyse the [Numbers Round](https://en.wikipedia.org/wiki/Countdown_(game_show)#Numbers_Round)  of the television gameshow called [Countdown](https://en.wikipedia.org/wiki/Countdown_(game_show)). The assignment will be broken up into two sections in this python notebook. THe first section will discuss the theory element of the Numbers round of the game Countdown. THis will involve discussing topics such as: \n",
    "    - A explanation of the Countdown Numbers Round.\n",
    "    - The analysis of the computational complexity of the round.\n",
    "    - An explanation of the approach taken in this assignment to solve the game.\n",
    "    - And lastly, the findings on the research of the problem done during this assignment.\n",
    "The second section of this notebook is on the implementation element and will involve:\n",
    "    - Implementing a function used to solve the numbers round of Countdown.\n",
    "    - Examples of the function being used.\n",
    "    - AS well as an explanation of any of the functional programming undertaking in the implementation of the solution."
   ]
  },
  {
   "cell_type": "markdown",
   "metadata": {},
   "source": [
    "# Countdown\n",
    "\n",
    "## **What is Countdown ?**\n",
    "Countdown the game show is a British television game show involving word and number puzzles and mathematical problems. The premise is that contestants must complete various puzzles, often mathematical within a limited amount of time. During this assignment, the mathematical problems portion of this show, also know as the Numbers Round, will focused on.\n",
    "\n",
    "### **The Numbers Round** <br/>\n",
    "The Numbers Round of Countdown is a game show that involves solving mathematical problems. The contestants are given six randomly chosen numbers and a set of basic mathemmatical operations to reach a target number or to get as close as that target number as possible within a time limit of 30 seconds.\n",
    "\n",
    "### **The Rules**<br/>\n",
    "The round starts off with the contestant selecting six numbers. The contestant can pick two numbers from 1 to 10 and one number each of the numbers 25, 50, 75 and 100. A random integer from 101 to 999 is generated(The Target Number). Once all of the numbers are presented to the contestandts they must reach the trarget number or as get as close to it as possible within the time limit.\n",
    "\n",
    "Although this may seem straight forward at first, there are some additional rules on how you can solve the problem. Firstly, the contestants can use any of the four basic mathematical operations: addition, subtraction, multiplication and division, these operators can be used as many times as the contestant pleases, although using the division operator MUST result in a whole number and likewise subtraction must result in a positive number. Secondly, each number must only be used once in the equation the contestant comes up with to reach solution to the problem.\n",
    "\n",
    "#### **The Numbers Round Example:**\n",
    "Numbers: 6, 8, 25, 50, 75, 100<br/>\n",
    "Target Number: 324\n",
    "\n",
    "Solution 1: <br/>\n",
    "Step 1: 100 * 8 = 800<br/>\n",
    "Step 2: 6  * 50 = 300<br/>\n",
    "Step 3: 800 - 300 = 500<br/>\n",
    "Step 4: 500 - 75 - 25 = 400<br/>\n",
    "\n",
    "Solution 2:<br/> \n",
    "Step 1: 6 + 8 + 25 + 50 + 75 + 100 = 264\n",
    "\n",
    "\n",
    "### Computational Complexity\n",
    "In the previous section, the explanation of the Number Round of the Countdown game was provided, including the rules and the solution approach. The following sections will focus on the computational complexity involved in solving the problem and the algorithmic approach to solve it efficiently."
   ]
  },
  {
   "cell_type": "markdown",
   "metadata": {},
   "source": [
    "# Computational Complexity Analysis\n",
    "\n"
   ]
  }
 ],
 "metadata": {
  "language_info": {
   "name": "python"
  }
 },
 "nbformat": 4,
 "nbformat_minor": 2
}
