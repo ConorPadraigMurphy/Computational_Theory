{
 "cells": [
  {
   "cell_type": "markdown",
   "metadata": {},
   "source": [
    "# Countdown - The Numbers Round\n",
    "***\n",
    "***Computational Theory Module ATU***\n",
    "\n",
    "**Author:** *Conor Murphy*"
   ]
  },
  {
   "cell_type": "markdown",
   "metadata": {},
   "source": [
    "## Assignment/Notebook Breakdown\n",
    "\n",
    "This assignment aims to solve and analyse the [Numbers Round](https://en.wikipedia.org/wiki/Countdown_(game_show)#Numbers_Round)  of the television gameshow called [Countdown](https://en.wikipedia.org/wiki/Countdown_(game_show)). The assignment will be broken up into two sections in this python notebook. The first section will discuss the theory element of the Numbers round of the game Countdown. This will involve discussing topics such as: \n",
    "    - A explanation of the Countdown Numbers Round.\n",
    "    - The analysis of the computational complexity of the round.\n",
    "    - An explanation of the approach taken in this assignment to solve the game.\n",
    "    - And lastly, the findings on the research of the problem done during this assignment.\n",
    "The second section of this notebook is on the implementation element and will involve:\n",
    "    - Implementing a function used to solve the numbers round of Countdown.\n",
    "    - Examples of the function being used.\n",
    "    - AS well as an explanation of any of the functional programming undertaking in the implementation of the solution."
   ]
  },
  {
   "cell_type": "markdown",
   "metadata": {},
   "source": [
    "## **Countdown**\n",
    "\n",
    "### What is Countdown ?\n",
    "Countdown the game show is a British television game show involving word and number puzzles and mathematical problems. The premise is that contestants must complete various puzzles, often mathematical within a limited amount of time. During this assignment, the mathematical problems portion of this show, also know as the Numbers Round, will focused on.\n",
    "\n",
    "#### The Numbers Round <br/>\n",
    "The Numbers Round of Countdown is a game show that involves solving mathematical problems. The contestants are given six randomly chosen numbers and a set of basic mathemmatical operations to reach a target number or to get as close as that target number as possible within a time limit of 30 seconds.\n",
    "\n",
    "#### The Rules<br/>\n",
    "The round starts off with the contestant selecting six numbers. The contestant can pick two numbers from 1 to 10 and one number each of the numbers 25, 50, 75 and 100. A random integer from 101 to 999 is generated(The Target Number). Once all of the numbers are presented to the contestandts they must reach the trarget number or as get as close to it as possible within the time limit.\n",
    "\n",
    "Although this may seem straight forward at first, there are some additional rules on how you can solve the problem. Firstly, the contestants can use any of the four basic mathematical operations: addition, subtraction, multiplication and division, these operators can be used as many times as the contestant pleases, although using the division operator MUST result in a whole number and likewise subtraction must result in a positive number. Secondly, each number must only be used once in the equation the contestant comes up with to reach solution to the problem.\n",
    "\n",
    "##### The Numbers Round Example:\n",
    "Numbers: 6, 8, 25, 50, 75, 100<br/>\n",
    "Target Number: 324\n",
    "\n",
    "Solution 1: <br/>\n",
    "Step 1: 100 * 8 = 800<br/>\n",
    "Step 2: 6  * 50 = 300<br/>\n",
    "Step 3: 800 - 300 = 500<br/>\n",
    "Step 4: 500 - 75 - 25 = 400<br/>\n",
    "\n",
    "Solution 2:<br/> \n",
    "Step 1: 6 + 8 + 25 + 50 + 75 + 100 = 264\n",
    "\n",
    "\n",
    "#### Computational Complexity\n",
    "In the previous section, the explanation of the Number Round of the Countdown game was provided, including the rules and the solution approach. The following sections will focus on the computational complexity involved in solving the problem and the algorithmic approach to solve it efficiently."
   ]
  },
  {
   "cell_type": "markdown",
   "metadata": {},
   "source": [
    "## Computational Complexity Analysis\n",
    "The computational complexity of the numbers round in Countdown will be explored in this section. Factors considered will include the possible combinations when dealing with six random numbers along with the various mathematical operations available, the impact of the target number on the complexity, the impact of the time constraint on the choice of algorithm, as well as a comparison of the different algorithms that could be used to solve the numbers round of the game.\n",
    "\n",
    "### Possible Combinations\n",
    "The numbers round of countdown introduces computational challenggeses that are rooted in combinatorial complexity. But what is combinatorial complexity? Combinatorial complexity, often referred to as a combinatorial explosion, is a mathematical concept that refers to the gowth in complexity of a the problem.\n",
    "In the numbers round of countdown, the number of possible combinations is the number of ways that the six random numbers can be arranged. The cobinatorial complexity comes from all the possible ways that you can combine the operators and numbers and the number number of combinations only grows exponentially with the nimber of numbers given. So in the context of of the numbers round where we have six numbers in the round there are aproximately 40,000 possible combinations that are within the target range for 101 to 999. If we were to take away the constraints that are the rules of the game the number os possbile combinations would increase to 100,000.<br/>\n",
    "\n",
    "[How many valid Expressions for the Numbers Round - math.stackexchange](https://math.stackexchange.com/questions/4219234/how-many-valid-expressions-for-countdown-numbers-round\n",
    ")\n",
    "\n",
    "### Impact of Constraints\n",
    "In the numbers round of countdown, there are several constraints that affect the computational complexity of the game. The first constraint is that the target number must be within a range of 101 to 999, (including 101 and 999). The second constraint is that any result recieved from an equation must be a positive integer, no negative or deimal point numbers are permitted.THe third constraint is that each number can only be used once per calculatin. An example of the numbers round following these constraints can bee seen above in the Numbers Round Example. With these constraints that must  be followed by the contestants, they greatly reduce the number of valid expressions that can be formed with the given numbers to reach the target number. Without these constraints, the number of possible expressions that could be greated would increase drastically, leading to a combinatorial explosion.\n",
    "\n",
    "### Time Complexity\n",
    "Another complex factor of the numbers round of countdown is the time complexity of it all.THe time complexity of the of the numbers round comes from the number of possible expressions that can be formed with the given numbers and the possible operators that can be used. With this the time complexity of the problem  grows exponentially.\n",
    "\n",
    "### Comparison of Different Algorithms\n",
    "There are several algorithms employed in tackling the numbers round of Countdown, each with its distinctive features and trade-offs. The following three algorithms represent different approaches to solving this mathematical challenge:\n",
    "\n",
    "- Brute-Force\n",
    "- Depth-First\n",
    "- Breadth-First\n",
    "\n",
    "These algorithms form the basis of computational strategies to find solutions to the numbers round. In the next section, I will go into detail on each of the algorithms, along with their strenghts and weaknesses. Additionally, I will go into detail on the insights that have been made on these algorithms in research papers focused on the numbers round of countdown. \n",
    "\n"
   ]
  },
  {
   "cell_type": "markdown",
   "metadata": {},
   "source": [
    "#### **Algorithm One: Brute Force**\n",
    "The brute force algorithm takes a straightforweard but inefficient approach when it comes to solving the numbers round of countdown. Graham Huttons paper [Functional Pearl - The Countdown problem](https://www.cambridge.org/core/services/aop-cambridge-core/content/view/FCF81E290B194D1ACBF699842D4D4CA5/S0956796801004300a.pdf/the-countdown-problem.pdf) represents a haskell program the generates and evaluates all of the possible expressions of the source numbers given in the problem. The brute-force algorithm exhaustively goes through all of the possible combinations of numbers and operators to generate all of the possible expression while still following the constraints of the game.\n",
    "\n",
    "##### What is Haskell\n",
    "Haskell is a programming language that is used for both research and industrial applications. It is general-purpose, statically typed, and purely functional. Haskell is named after the mathematician and logician Haskell Curry. It has pioneered programming concepts like type classes, which enable type-safe operator overloading and monadic input/output. Haskell's primary implementation is the Glasgow Haskell Compiler. Haskell also features type interface and lazy evaluation.\n",
    "\n",
    "#### Brute-Force Approach\n",
    "As it is described in Huttons paper, the brute-force method of solving countdown takes a straightforward and inefficient approch to getting the solution for the target number. Huttons paper uses a Haskell program to generate and evaluate all of the possible combinations of expressions to find valid expressions that can be used to reach the target number.\n",
    "\n",
    "#### Implementation of the Brute-Force Algorithm\n",
    "\n",
    "- **Core Components**\n",
    "  - Arithmetic operations: The algorithm defines four basic arithmetic operations: addition, subtraction, multiplication, and division.\n",
    "  - Validation and Applicatoion Functions: \n",
    "    - Valid: Determines if applying a particular operator to two of the numbers will result in a valid number(e.g. 10 + 8 = 18) and not a negative number or a decimal point number.\n",
    "    - Appy: Applies a particular operator to two of the numbers.\n",
    "\n",
    "- **Expresion Type**\n",
    "The algorithm represents arithmitic expressions using a defined type, which includes values and applications of operators to sub-expression\n",
    "\n",
    "- **Generation of the Expressions**\n",
    "THe key function for generating all of the expressions is 'exprs', this generates all of the possible expressions by:\n",
    "  - Starts with the base cases: an empty list that results in no expressions, and a single number results in an expression.\n",
    "  - Split the list of numbers into non-empty subsequences\n",
    "  - Recursively generate expression for each subsequence and combining them using arithmetic operators.\n",
    "  \n",
    "- **Validation & Solution**\n",
    "THe 'solutions' function makes use of the previously generated expressions and validates them against the specfied constraints of the numbers round that were previously discussed. The validation will filter out any of the invalid expressions that cannot be used to reach the target number.\n",
    "\n",
    "- **Performance**\n",
    "- Huttons paper acknowledges the ineffciency of the brute force algorithm due to its exponential growth of the number of expressions that need to be evaluated."
   ]
  },
  {
   "cell_type": "markdown",
   "metadata": {},
   "source": [
    "#### **Algorithm Two: Depth-First**\n",
    "Depth-First is a traversal and search algorithm that explores as far as it possibly can along a branch before it backtracks. It starts at the root of a node or a random node and explores each branch of the tree or graph before moving onto the next branch, the fundamental principle of depth-first is to go as deep as possible on a branch exploring it to completion before backtracking.\n",
    "\n",
    "##### Example of Depth-First in Countdowns: Number Round\n",
    "- Numbers Given: {6, 8, 25, 50, 75, 100}\n",
    "- Target Number: 324\n",
    "\n",
    "1.**Start with the initial state:**<br/>\n",
    "Begin with the random numbers given: 6, 8, 25, 50, 75, 100\n",
    "\n",
    "2.**Explore a chosen subset:**<br/>\n",
    "Chosen subset: {6, 8}\n",
    "Apply the possible operators to the subset:\n",
    "   - 6 + 8 = 14\n",
    "   - 6 * 8 = 48\n",
    "   - 8 - 6 = 2\n",
    "   - 8 / 6 =1.3333333333333333 ** - This is a decimal meaning that it goes against the constraints of the game and cannot be used**<br/>\n",
    "\n",
    "All of the valid expression are stored for later use as a potential solution to reach the target number later.\n",
    "When a deadend is reached where there are no further valid expressions can be made, we backtrack to the previous state and explore another subset.<br/>\n",
    "\n",
    "3.**Explore another chosen subset:**<br/>\n",
    "Chosen Subset: {25, 50}\n",
    "Apply the possible operators to the subset:\n",
    "   - 25 + 50 = 75\n",
    "   - 25 * 50 = 12500\n",
    "   - 50 - 25 = 25\n",
    "   - 50 / 25 = 2\n",
    "\n",
    "4.**Continue to explore the rest of the subsets....**<br/>\n",
    "\n",
    "5.**Combine the results of the subsets:**<br/>\n",
    "\n",
    "   - 14 + 75 = 99\n",
    "   - 75 * 2 = 150\n",
    "   - 12500 - 150 = 12350\n",
    "\n",
    "6.**Reach the Target**<br/>\n",
    "This exploration and calculation is done until a combination leads to the target number, or as close as the target number is possible.\n",
    "\n",
    "**Validation & Solution**<br/>\n",
    "This algorithm filters out expressions that do not follow the constrains of the game. It also identifies the expressions that do follow the constraints of the game and uses them to help reach the target number. It is important to note that any exprerssion that results in a decimal is not considered a valid expression, because it goes against the constraints of the game. As well as that each number can only be used once in an expression and once it is used unless their is another of the same number cannot be used again."
   ]
  },
  {
   "cell_type": "markdown",
   "metadata": {},
   "source": [
    "#### **Algorithm Three: Breadth-First**\n",
    "Breadth-First is a traversal algorithm that searches a tree or graph data structures similarily to depth-first. It starts at the root node and explores all of the nodes at the same layer before moving on to the nodes at the next layer. \n",
    "\n",
    "##### Example of Breadth-First in Countdowns: Number Round\n",
    "- Numbers Given: {6, 8, 25, 50, 75, 100}\n",
    "- Target Number: 324\n",
    "\n",
    "1.**Start with the initial state:**<br/>\n",
    "Begin with the random numbers given, which are: {6, 8, 25, 50, 75, 100}\n",
    "\n",
    "2.**Intialise the Breadth-First Search:**<br/>\n",
    "Enqueue the initial state, which in this case is {6, 8, 25, 50, 75, 100}\n",
    "\n",
    "3.**Explore and Generate Adjacent Nodes:**<br/>\n",
    "Dequeue a state from the front of ther queue and generate all possible subsets of the current state. Each of the operaators are applied to pairs of numbers within each of the subsets.\n",
    "\n",
    "4.**Repeat Until Target is Reached:**<br/>\n",
    "Continue the enqueing and dequeing process untils a subset is found that matches the target number, or until all options are exhausted.\n",
    "\n",
    "5.**Backtracking:**<br/>\n",
    "If no valid subset is found that leads to the target number, the algorithm then backtracks to the previous state and tries a different subset to try and reach the target number.\n",
    "\n",
    "6.**Reach the Target:**<br/>\n",
    "Once a valid subset is found that leads to the target number\n",
    "\n",
    "**Validation & Solution**<br/>\n",
    "THe breadth-first algoritrhm filters out expresseions that are not possible due to the constraints of the game. Any invalid expressions that is found is then discarded during the exploration phase of the algorithm. The valid expressions that follow the constraints of the game are used to reach the target number."
   ]
  },
  {
   "cell_type": "markdown",
   "metadata": {},
   "source": [
    "## Implementing Solutions for Countdown Numbers Round\n",
    "The following code provides an efficient solution for the Countdown Numbers Round game, where the aim is to find a series of operations that can be used to transform a given set of numbers into the required target number. The Countdown Numbers Round is a computationally complex challenge that requires strategic thinking and mathematical problem-solving skills within a specific time frame. An algorithmic solution can be used to tackle this problem.\n",
    "\n",
    "The \"NumbersRound\" function implements a solution that utilises a combination of brute force exploration and recursive traversal to explore possible solutions. "
   ]
  },
  {
   "cell_type": "code",
   "execution_count": 226,
   "metadata": {},
   "outputs": [],
   "source": [
    "# Define NumbersRound function\n",
    "def NumbersRound(target, numbers):\n",
    "    # Initalise variables to store the bests results and the best expression\n",
    "    best_result = 0\n",
    "    best_expression = \"\"\n",
    "    # Define RecursiveRound function\n",
    "    def solve_numbers(target, numbers, current_expression=\"\"):\n",
    "        # Access the outer functions variables to update\n",
    "        nonlocal best_result, best_expression\n",
    "        \n",
    "        # Update the best_result and best_expression if a better solution to the target is found \n",
    "        if abs(target - best_result) > abs(target - numbers[0]): \n",
    "            best_result = numbers[0]\n",
    "            best_expression = current_expression\n",
    "        \n",
    "        # If the target number is found, update the best_expression\n",
    "        if target == numbers[0]:\n",
    "            if best_expression == \"\":\n",
    "                best_expression = current_expression\n",
    "        # If the target isn't found yet, continue exploration\n",
    "        elif len(numbers) > 1:\n",
    "            for i in range(0, len(numbers)-1):\n",
    "                for j in range(i+1, len(numbers)):\n",
    "                    # Generate a new list without current pair\n",
    "                    remaining_numbers = numbers[:i] + numbers[i+1:j] + numbers[j+1:]\n",
    "                    a, b = numbers[i], numbers[j]\n",
    "                    # Make sure that a is smaller than or equal to b\n",
    "                    if a > b: a, b = b, a\n",
    "                    operation_result = b + a\n",
    "                    operation = str(b) + \" + \" + str(a) + \" = \" + str(operation_result) + \" \\n \"\n",
    "                    solve_numbers(target, [operation_result] + remaining_numbers, current_expression + operation)\n",
    "                    # Explore subtraction operation if a is not equal to b\n",
    "                    if b != a:\n",
    "                        operation_result = b - a\n",
    "                        operation = str(b) + \" - \" + str(a) + \" = \" + str(operation_result) + \" \\n \"\n",
    "                        solve_numbers(target, [operation_result] + remaining_numbers, current_expression + operation)\n",
    "                    # Explore multiplication operation ifd a is not equal to 1\n",
    "                    if a != 1:\n",
    "                        operation_result = b * a\n",
    "                        operation = str(b) + \" * \" + str(a) + \" = \" + str(operation_result) + \" \\n \"\n",
    "                        solve_numbers(target, [operation_result] + remaining_numbers, current_expression + operation)\n",
    "                        # Explore division operation if b is divisible by a\n",
    "                        if b % a == 0:\n",
    "                            operation_result = int(b / a)\n",
    "                            operation = str(b) + \" / \" + str(a) + \" = \" + str(operation_result) + \" \\n \"\n",
    "                            solve_numbers(target, [operation_result] + remaining_numbers, current_expression + operation)\n",
    "    # Begin recursive exploration\n",
    "    solve_numbers(target, numbers)\n",
    "    # Return the best_result and best_expression\n",
    "    return best_result, best_expression"
   ]
  },
  {
   "cell_type": "code",
   "execution_count": 227,
   "metadata": {},
   "outputs": [
    {
     "name": "stdout",
     "output_type": "stream",
     "text": [
      "Target Number: 324\n",
      "Solution Result: 324\n",
      "Solution:\n",
      " 25 * 6 = 150 \n",
      " 150 / 50 = 3 \n",
      " 100 + 8 = 108 \n",
      " 108 * 3 = 324 \n",
      " \n"
     ]
    }
   ],
   "source": [
    "# Initalise the best_result and best_expression\n",
    "target_number = 324\n",
    "given_numbers = [6, 8, 25, 50, 75, 100]\n",
    "# Print the target number\n",
    "print(\"Target Number:\", target_number)\n",
    "# Call the NumbersRound function and store the returned values\n",
    "best_result, best_expression = NumbersRound(target_number, given_numbers)\n",
    "# Print the best_result and best_expression\n",
    "print(\"Solution Result:\", best_result)\n",
    "print(\"Solution:\\n\", best_expression)"
   ]
  },
  {
   "cell_type": "code",
   "execution_count": 234,
   "metadata": {},
   "outputs": [
    {
     "name": "stdout",
     "output_type": "stream",
     "text": [
      "Target Number: 897\n",
      "Solution Result: 897\n",
      "Solution:\n",
      " 50 - 6 = 44 \n",
      " 25 - 8 = 17 \n",
      " 100 - 80 = 20 \n",
      " 44 * 20 = 880 \n",
      " 880 + 17 = 897 \n",
      " \n"
     ]
    }
   ],
   "source": [
    "# Initalise the best_result and best_expression\n",
    "target_number = 897\n",
    "given_numbers = [6, 8, 25, 50, 80, 100]\n",
    "# Print the target number\n",
    "print(\"Target Number:\", target_number)\n",
    "# Call the NumbersRound function and store the returned values\n",
    "best_result, best_expression = NumbersRound(target_number, given_numbers)\n",
    "# Print the best_result and best_expression\n",
    "print(\"Solution Result:\", best_result)\n",
    "print(\"Solution:\\n\", best_expression)"
   ]
  },
  {
   "cell_type": "markdown",
   "metadata": {},
   "source": [
    "## Research References"
   ]
  },
  {
   "cell_type": "markdown",
   "metadata": {},
   "source": [
    "- [StackExchange - How many valid expressions for countdown numbers round?](https://math.stackexchange.com/questions/4219234/how-many-valid-expressions-for-countdown-numbers-round)\n",
    "- [Paper - Countdown Numbers Game: Solved, Analysed, Extended (Simon Colton)](https://doc.gold.ac.uk/aisb50/AISB50-S02/AISB50-S2-Colton-paper.pdf)\n",
    "- [The (Final) Countdown (Jean-Marc Alliot)](https://arxiv.org/abs/1502.05450)\n",
    "- [The Countdown Problem - Graham Hutton](https://www.cambridge.org/core/journals/journal-of-functional-programming/article/countdown-problem/FCF81E290B194D1ACBF699842D4D4CA5)"
   ]
  },
  {
   "cell_type": "markdown",
   "metadata": {},
   "source": [
    "***\n",
    "## End"
   ]
  }
 ],
 "metadata": {
  "kernelspec": {
   "display_name": "base",
   "language": "python",
   "name": "python3"
  },
  "language_info": {
   "codemirror_mode": {
    "name": "ipython",
    "version": 3
   },
   "file_extension": ".py",
   "mimetype": "text/x-python",
   "name": "python",
   "nbconvert_exporter": "python",
   "pygments_lexer": "ipython3",
   "version": "3.11.5"
  }
 },
 "nbformat": 4,
 "nbformat_minor": 2
}
